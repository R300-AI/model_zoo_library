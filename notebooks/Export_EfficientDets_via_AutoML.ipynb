{
 "cells": [
  {
   "cell_type": "markdown",
   "metadata": {},
   "source": [
    "# Export EfficientDets via AutoML"
   ]
  },
  {
   "cell_type": "markdown",
   "metadata": {},
   "source": [
    "<table class=\"tfo-notebook-buttons\" align=\"left\">\n",
    "  <td>\n",
    "    <a target=\"_blank\" href=\"\"><img src=\"https://www.tensorflow.org/images/GitHub-Mark-32px.png\" />View source on GitHub</a>\n",
    "  </td>\n",
    "  <td>\n",
    "    <a href=\"https://storage.googleapis.com/tensorflow_docs/tensorflow/tensorflow/lite/g3doc/models/modify/model_maker/object_detection.ipynb\"><img src=\"https://www.tensorflow.org/images/download_logo_32px.png\" />Run in Azure ML Studio</a>\n",
    "  </td>\n",
    "</table>"
   ]
  },
  {
   "cell_type": "markdown",
   "metadata": {
    "id": "FCwzIBzyn5VX"
   },
   "source": [
    "### Step1. Build Environment\n"
   ]
  },
  {
   "cell_type": "markdown",
   "metadata": {
    "id": "w7DEUNO_orr1"
   },
   "source": [
    "> * **Ubuntu Server** and **Python3.8** Compiler is required for this script. We also recommand that you can use conda to build an virtual environment before running jupyter notebook.\n",
    ">   \n",
    ">   ```bash\n",
    ">   conda create --name automl python==3.8\n",
    ">   source activate automl\n",
    ">   ```"
   ]
  },
  {
   "cell_type": "code",
   "execution_count": 1,
   "metadata": {
    "id": "u3h45KEanTMo",
    "scrolled": true
   },
   "outputs": [
    {
     "name": "stdout",
     "output_type": "stream",
     "text": [
      "Requirement already satisfied: tensorflow-model-optimization==0.7.0 in /home/r300/miniconda3/envs/automl/lib/python3.8/site-packages (0.7.0)\n",
      "Requirement already satisfied: numpy~=1.14 in /home/r300/miniconda3/envs/automl/lib/python3.8/site-packages (from tensorflow-model-optimization==0.7.0) (1.23.5)\n",
      "Requirement already satisfied: six~=1.10 in /home/r300/miniconda3/envs/automl/lib/python3.8/site-packages (from tensorflow-model-optimization==0.7.0) (1.16.0)\n",
      "Requirement already satisfied: dm-tree~=0.1.1 in /home/r300/miniconda3/envs/automl/lib/python3.8/site-packages (from tensorflow-model-optimization==0.7.0) (0.1.8)\n",
      "Requirement already satisfied: tensorflowjs==3.18.0 in /home/r300/miniconda3/envs/automl/lib/python3.8/site-packages (3.18.0)\n",
      "Requirement already satisfied: tensorflow<3,>=2.1.0 in /home/r300/miniconda3/envs/automl/lib/python3.8/site-packages (from tensorflowjs==3.18.0) (2.8.0)\n",
      "Requirement already satisfied: six<2,>=1.12.0 in /home/r300/miniconda3/envs/automl/lib/python3.8/site-packages (from tensorflowjs==3.18.0) (1.16.0)\n",
      "Requirement already satisfied: tensorflow-hub<0.13,>=0.7.0 in /home/r300/miniconda3/envs/automl/lib/python3.8/site-packages (from tensorflowjs==3.18.0) (0.12.0)\n",
      "Requirement already satisfied: packaging~=20.9 in /home/r300/miniconda3/envs/automl/lib/python3.8/site-packages (from tensorflowjs==3.18.0) (20.9)\n",
      "Requirement already satisfied: pyparsing>=2.0.2 in /home/r300/miniconda3/envs/automl/lib/python3.8/site-packages (from packaging~=20.9->tensorflowjs==3.18.0) (3.1.2)\n",
      "Requirement already satisfied: absl-py>=0.4.0 in /home/r300/miniconda3/envs/automl/lib/python3.8/site-packages (from tensorflow<3,>=2.1.0->tensorflowjs==3.18.0) (1.4.0)\n",
      "Requirement already satisfied: astunparse>=1.6.0 in /home/r300/miniconda3/envs/automl/lib/python3.8/site-packages (from tensorflow<3,>=2.1.0->tensorflowjs==3.18.0) (1.6.3)\n",
      "Requirement already satisfied: flatbuffers>=1.12 in /home/r300/miniconda3/envs/automl/lib/python3.8/site-packages (from tensorflow<3,>=2.1.0->tensorflowjs==3.18.0) (24.3.25)\n",
      "Requirement already satisfied: gast>=0.2.1 in /home/r300/miniconda3/envs/automl/lib/python3.8/site-packages (from tensorflow<3,>=2.1.0->tensorflowjs==3.18.0) (0.6.0)\n",
      "Requirement already satisfied: google-pasta>=0.1.1 in /home/r300/miniconda3/envs/automl/lib/python3.8/site-packages (from tensorflow<3,>=2.1.0->tensorflowjs==3.18.0) (0.2.0)\n",
      "Requirement already satisfied: h5py>=2.9.0 in /home/r300/miniconda3/envs/automl/lib/python3.8/site-packages (from tensorflow<3,>=2.1.0->tensorflowjs==3.18.0) (3.11.0)\n",
      "Requirement already satisfied: keras-preprocessing>=1.1.1 in /home/r300/miniconda3/envs/automl/lib/python3.8/site-packages (from tensorflow<3,>=2.1.0->tensorflowjs==3.18.0) (1.1.2)\n",
      "Requirement already satisfied: libclang>=9.0.1 in /home/r300/miniconda3/envs/automl/lib/python3.8/site-packages (from tensorflow<3,>=2.1.0->tensorflowjs==3.18.0) (18.1.1)\n",
      "Requirement already satisfied: numpy>=1.20 in /home/r300/miniconda3/envs/automl/lib/python3.8/site-packages (from tensorflow<3,>=2.1.0->tensorflowjs==3.18.0) (1.23.5)\n",
      "Requirement already satisfied: opt-einsum>=2.3.2 in /home/r300/miniconda3/envs/automl/lib/python3.8/site-packages (from tensorflow<3,>=2.1.0->tensorflowjs==3.18.0) (3.3.0)\n",
      "Requirement already satisfied: protobuf>=3.9.2 in /home/r300/miniconda3/envs/automl/lib/python3.8/site-packages (from tensorflow<3,>=2.1.0->tensorflowjs==3.18.0) (3.20.3)\n",
      "Requirement already satisfied: setuptools in /home/r300/miniconda3/envs/automl/lib/python3.8/site-packages (from tensorflow<3,>=2.1.0->tensorflowjs==3.18.0) (72.1.0)\n",
      "Requirement already satisfied: termcolor>=1.1.0 in /home/r300/miniconda3/envs/automl/lib/python3.8/site-packages (from tensorflow<3,>=2.1.0->tensorflowjs==3.18.0) (2.4.0)\n",
      "Requirement already satisfied: typing-extensions>=3.6.6 in /home/r300/miniconda3/envs/automl/lib/python3.8/site-packages (from tensorflow<3,>=2.1.0->tensorflowjs==3.18.0) (4.12.2)\n",
      "Requirement already satisfied: wrapt>=1.11.0 in /home/r300/miniconda3/envs/automl/lib/python3.8/site-packages (from tensorflow<3,>=2.1.0->tensorflowjs==3.18.0) (1.16.0)\n",
      "Requirement already satisfied: tensorboard<2.9,>=2.8 in /home/r300/miniconda3/envs/automl/lib/python3.8/site-packages (from tensorflow<3,>=2.1.0->tensorflowjs==3.18.0) (2.8.0)\n",
      "Requirement already satisfied: tf-estimator-nightly==2.8.0.dev2021122109 in /home/r300/miniconda3/envs/automl/lib/python3.8/site-packages (from tensorflow<3,>=2.1.0->tensorflowjs==3.18.0) (2.8.0.dev2021122109)\n",
      "Requirement already satisfied: keras<2.9,>=2.8.0rc0 in /home/r300/miniconda3/envs/automl/lib/python3.8/site-packages (from tensorflow<3,>=2.1.0->tensorflowjs==3.18.0) (2.8.0)\n",
      "Requirement already satisfied: tensorflow-io-gcs-filesystem>=0.23.1 in /home/r300/miniconda3/envs/automl/lib/python3.8/site-packages (from tensorflow<3,>=2.1.0->tensorflowjs==3.18.0) (0.34.0)\n",
      "Requirement already satisfied: grpcio<2.0,>=1.24.3 in /home/r300/miniconda3/envs/automl/lib/python3.8/site-packages (from tensorflow<3,>=2.1.0->tensorflowjs==3.18.0) (1.65.5)\n",
      "Requirement already satisfied: wheel<1.0,>=0.23.0 in /home/r300/miniconda3/envs/automl/lib/python3.8/site-packages (from astunparse>=1.6.0->tensorflow<3,>=2.1.0->tensorflowjs==3.18.0) (0.43.0)\n",
      "Requirement already satisfied: google-auth<3,>=1.6.3 in /home/r300/miniconda3/envs/automl/lib/python3.8/site-packages (from tensorboard<2.9,>=2.8->tensorflow<3,>=2.1.0->tensorflowjs==3.18.0) (2.34.0)\n",
      "Requirement already satisfied: google-auth-oauthlib<0.5,>=0.4.1 in /home/r300/miniconda3/envs/automl/lib/python3.8/site-packages (from tensorboard<2.9,>=2.8->tensorflow<3,>=2.1.0->tensorflowjs==3.18.0) (0.4.6)\n",
      "Requirement already satisfied: markdown>=2.6.8 in /home/r300/miniconda3/envs/automl/lib/python3.8/site-packages (from tensorboard<2.9,>=2.8->tensorflow<3,>=2.1.0->tensorflowjs==3.18.0) (3.7)\n",
      "Requirement already satisfied: requests<3,>=2.21.0 in /home/r300/miniconda3/envs/automl/lib/python3.8/site-packages (from tensorboard<2.9,>=2.8->tensorflow<3,>=2.1.0->tensorflowjs==3.18.0) (2.32.3)\n",
      "Requirement already satisfied: tensorboard-data-server<0.7.0,>=0.6.0 in /home/r300/miniconda3/envs/automl/lib/python3.8/site-packages (from tensorboard<2.9,>=2.8->tensorflow<3,>=2.1.0->tensorflowjs==3.18.0) (0.6.1)\n",
      "Requirement already satisfied: tensorboard-plugin-wit>=1.6.0 in /home/r300/miniconda3/envs/automl/lib/python3.8/site-packages (from tensorboard<2.9,>=2.8->tensorflow<3,>=2.1.0->tensorflowjs==3.18.0) (1.8.1)\n",
      "Requirement already satisfied: werkzeug>=0.11.15 in /home/r300/miniconda3/envs/automl/lib/python3.8/site-packages (from tensorboard<2.9,>=2.8->tensorflow<3,>=2.1.0->tensorflowjs==3.18.0) (3.0.3)\n",
      "Requirement already satisfied: cachetools<6.0,>=2.0.0 in /home/r300/miniconda3/envs/automl/lib/python3.8/site-packages (from google-auth<3,>=1.6.3->tensorboard<2.9,>=2.8->tensorflow<3,>=2.1.0->tensorflowjs==3.18.0) (5.5.0)\n",
      "Requirement already satisfied: pyasn1-modules>=0.2.1 in /home/r300/miniconda3/envs/automl/lib/python3.8/site-packages (from google-auth<3,>=1.6.3->tensorboard<2.9,>=2.8->tensorflow<3,>=2.1.0->tensorflowjs==3.18.0) (0.4.0)\n",
      "Requirement already satisfied: rsa<5,>=3.1.4 in /home/r300/miniconda3/envs/automl/lib/python3.8/site-packages (from google-auth<3,>=1.6.3->tensorboard<2.9,>=2.8->tensorflow<3,>=2.1.0->tensorflowjs==3.18.0) (4.9)\n",
      "Requirement already satisfied: requests-oauthlib>=0.7.0 in /home/r300/miniconda3/envs/automl/lib/python3.8/site-packages (from google-auth-oauthlib<0.5,>=0.4.1->tensorboard<2.9,>=2.8->tensorflow<3,>=2.1.0->tensorflowjs==3.18.0) (2.0.0)\n",
      "Requirement already satisfied: importlib-metadata>=4.4 in /home/r300/miniconda3/envs/automl/lib/python3.8/site-packages (from markdown>=2.6.8->tensorboard<2.9,>=2.8->tensorflow<3,>=2.1.0->tensorflowjs==3.18.0) (8.4.0)\n",
      "Requirement already satisfied: charset-normalizer<4,>=2 in /home/r300/miniconda3/envs/automl/lib/python3.8/site-packages (from requests<3,>=2.21.0->tensorboard<2.9,>=2.8->tensorflow<3,>=2.1.0->tensorflowjs==3.18.0) (3.3.2)\n",
      "Requirement already satisfied: idna<4,>=2.5 in /home/r300/miniconda3/envs/automl/lib/python3.8/site-packages (from requests<3,>=2.21.0->tensorboard<2.9,>=2.8->tensorflow<3,>=2.1.0->tensorflowjs==3.18.0) (3.7)\n",
      "Requirement already satisfied: urllib3<3,>=1.21.1 in /home/r300/miniconda3/envs/automl/lib/python3.8/site-packages (from requests<3,>=2.21.0->tensorboard<2.9,>=2.8->tensorflow<3,>=2.1.0->tensorflowjs==3.18.0) (1.21.1)\n",
      "Requirement already satisfied: certifi>=2017.4.17 in /home/r300/miniconda3/envs/automl/lib/python3.8/site-packages (from requests<3,>=2.21.0->tensorboard<2.9,>=2.8->tensorflow<3,>=2.1.0->tensorflowjs==3.18.0) (2024.7.4)\n",
      "Requirement already satisfied: MarkupSafe>=2.1.1 in /home/r300/miniconda3/envs/automl/lib/python3.8/site-packages (from werkzeug>=0.11.15->tensorboard<2.9,>=2.8->tensorflow<3,>=2.1.0->tensorflowjs==3.18.0) (2.1.5)\n",
      "Requirement already satisfied: zipp>=0.5 in /home/r300/miniconda3/envs/automl/lib/python3.8/site-packages (from importlib-metadata>=4.4->markdown>=2.6.8->tensorboard<2.9,>=2.8->tensorflow<3,>=2.1.0->tensorflowjs==3.18.0) (3.20.0)\n",
      "Requirement already satisfied: pyasn1<0.7.0,>=0.4.6 in /home/r300/miniconda3/envs/automl/lib/python3.8/site-packages (from pyasn1-modules>=0.2.1->google-auth<3,>=1.6.3->tensorboard<2.9,>=2.8->tensorflow<3,>=2.1.0->tensorflowjs==3.18.0) (0.6.0)\n",
      "Requirement already satisfied: oauthlib>=3.0.0 in /home/r300/miniconda3/envs/automl/lib/python3.8/site-packages (from requests-oauthlib>=0.7.0->google-auth-oauthlib<0.5,>=0.4.1->tensorboard<2.9,>=2.8->tensorflow<3,>=2.1.0->tensorflowjs==3.18.0) (3.2.2)\n",
      "Requirement already satisfied: twine==1.9.0 in /home/r300/miniconda3/envs/automl/lib/python3.8/site-packages (1.9.0)\n",
      "Requirement already satisfied: tqdm>=4.11 in /home/r300/miniconda3/envs/automl/lib/python3.8/site-packages (from twine==1.9.0) (4.66.5)\n",
      "Requirement already satisfied: requests>=2.5.0 in /home/r300/miniconda3/envs/automl/lib/python3.8/site-packages (from twine==1.9.0) (2.32.3)\n",
      "Requirement already satisfied: requests-toolbelt>=0.8.0 in /home/r300/miniconda3/envs/automl/lib/python3.8/site-packages (from twine==1.9.0) (1.0.0)\n",
      "Requirement already satisfied: pkginfo>=1.0 in /home/r300/miniconda3/envs/automl/lib/python3.8/site-packages (from twine==1.9.0) (1.11.1)\n",
      "Requirement already satisfied: setuptools>=0.7.0 in /home/r300/miniconda3/envs/automl/lib/python3.8/site-packages (from twine==1.9.0) (72.1.0)\n",
      "Requirement already satisfied: charset-normalizer<4,>=2 in /home/r300/miniconda3/envs/automl/lib/python3.8/site-packages (from requests>=2.5.0->twine==1.9.0) (3.3.2)\n",
      "Requirement already satisfied: idna<4,>=2.5 in /home/r300/miniconda3/envs/automl/lib/python3.8/site-packages (from requests>=2.5.0->twine==1.9.0) (3.7)\n",
      "Requirement already satisfied: urllib3<3,>=1.21.1 in /home/r300/miniconda3/envs/automl/lib/python3.8/site-packages (from requests>=2.5.0->twine==1.9.0) (1.21.1)\n",
      "Requirement already satisfied: certifi>=2017.4.17 in /home/r300/miniconda3/envs/automl/lib/python3.8/site-packages (from requests>=2.5.0->twine==1.9.0) (2024.7.4)\n",
      "Requirement already satisfied: urllib3==1.21.1 in /home/r300/miniconda3/envs/automl/lib/python3.8/site-packages (1.21.1)\n",
      "Requirement already satisfied: pandas==1.4.1 in /home/r300/miniconda3/envs/automl/lib/python3.8/site-packages (1.4.1)\n",
      "Requirement already satisfied: python-dateutil>=2.8.1 in /home/r300/miniconda3/envs/automl/lib/python3.8/site-packages (from pandas==1.4.1) (2.9.0.post0)\n",
      "Requirement already satisfied: pytz>=2020.1 in /home/r300/miniconda3/envs/automl/lib/python3.8/site-packages (from pandas==1.4.1) (2024.1)\n",
      "Requirement already satisfied: numpy>=1.18.5 in /home/r300/miniconda3/envs/automl/lib/python3.8/site-packages (from pandas==1.4.1) (1.23.5)\n",
      "Requirement already satisfied: six>=1.5 in /home/r300/miniconda3/envs/automl/lib/python3.8/site-packages (from python-dateutil>=2.8.1->pandas==1.4.1) (1.16.0)\n",
      "Requirement already satisfied: numpy==1.23.5 in /home/r300/miniconda3/envs/automl/lib/python3.8/site-packages (1.23.5)\n",
      "Requirement already satisfied: numba==0.53 in /home/r300/miniconda3/envs/automl/lib/python3.8/site-packages (0.53.0)\n",
      "Requirement already satisfied: llvmlite<0.37,>=0.36.0rc1 in /home/r300/miniconda3/envs/automl/lib/python3.8/site-packages (from numba==0.53) (0.36.0)\n",
      "Requirement already satisfied: numpy>=1.15 in /home/r300/miniconda3/envs/automl/lib/python3.8/site-packages (from numba==0.53) (1.23.5)\n",
      "Requirement already satisfied: setuptools in /home/r300/miniconda3/envs/automl/lib/python3.8/site-packages (from numba==0.53) (72.1.0)\n",
      "Requirement already satisfied: tflite-model-maker==0.4.2 in /home/r300/miniconda3/envs/automl/lib/python3.8/site-packages (0.4.2)\n",
      "Requirement already satisfied: tf-models-official==2.3.0 in /home/r300/miniconda3/envs/automl/lib/python3.8/site-packages (from tflite-model-maker==0.4.2) (2.3.0)\n",
      "Requirement already satisfied: numpy>=1.17.3 in /home/r300/miniconda3/envs/automl/lib/python3.8/site-packages (from tflite-model-maker==0.4.2) (1.23.5)\n",
      "Requirement already satisfied: pillow>=7.0.0 in /home/r300/miniconda3/envs/automl/lib/python3.8/site-packages (from tflite-model-maker==0.4.2) (10.4.0)\n",
      "Requirement already satisfied: sentencepiece>=0.1.91 in /home/r300/miniconda3/envs/automl/lib/python3.8/site-packages (from tflite-model-maker==0.4.2) (0.2.0)\n",
      "Requirement already satisfied: tensorflow-datasets>=2.1.0 in /home/r300/miniconda3/envs/automl/lib/python3.8/site-packages (from tflite-model-maker==0.4.2) (4.9.2)\n",
      "Requirement already satisfied: fire>=0.3.1 in /home/r300/miniconda3/envs/automl/lib/python3.8/site-packages (from tflite-model-maker==0.4.2) (0.6.0)\n",
      "Requirement already satisfied: flatbuffers>=2.0 in /home/r300/miniconda3/envs/automl/lib/python3.8/site-packages (from tflite-model-maker==0.4.2) (24.3.25)\n",
      "Requirement already satisfied: absl-py>=0.10.0 in /home/r300/miniconda3/envs/automl/lib/python3.8/site-packages (from tflite-model-maker==0.4.2) (1.4.0)\n",
      "Requirement already satisfied: urllib3!=1.25.0,!=1.25.1,<1.26,>=1.21.1 in /home/r300/miniconda3/envs/automl/lib/python3.8/site-packages (from tflite-model-maker==0.4.2) (1.21.1)\n",
      "Requirement already satisfied: tflite-support>=0.4.2 in /home/r300/miniconda3/envs/automl/lib/python3.8/site-packages (from tflite-model-maker==0.4.2) (0.4.3)\n",
      "Requirement already satisfied: tensorflowjs<3.19.0,>=2.4.0 in /home/r300/miniconda3/envs/automl/lib/python3.8/site-packages (from tflite-model-maker==0.4.2) (3.18.0)\n",
      "Requirement already satisfied: tensorflow>=2.6.0 in /home/r300/miniconda3/envs/automl/lib/python3.8/site-packages (from tflite-model-maker==0.4.2) (2.8.0)\n",
      "Requirement already satisfied: numba==0.53 in /home/r300/miniconda3/envs/automl/lib/python3.8/site-packages (from tflite-model-maker==0.4.2) (0.53.0)\n",
      "Requirement already satisfied: librosa==0.8.1 in /home/r300/miniconda3/envs/automl/lib/python3.8/site-packages (from tflite-model-maker==0.4.2) (0.8.1)\n",
      "Requirement already satisfied: lxml>=4.6.1 in /home/r300/miniconda3/envs/automl/lib/python3.8/site-packages (from tflite-model-maker==0.4.2) (5.3.0)\n",
      "Requirement already satisfied: PyYAML>=5.1 in /home/r300/miniconda3/envs/automl/lib/python3.8/site-packages (from tflite-model-maker==0.4.2) (6.0.2)\n",
      "Requirement already satisfied: matplotlib<3.5.0,>=3.0.3 in /home/r300/miniconda3/envs/automl/lib/python3.8/site-packages (from tflite-model-maker==0.4.2) (3.4.3)\n",
      "Requirement already satisfied: six>=1.12.0 in /home/r300/miniconda3/envs/automl/lib/python3.8/site-packages (from tflite-model-maker==0.4.2) (1.16.0)\n",
      "Requirement already satisfied: tensorflow-addons>=0.11.2 in /home/r300/miniconda3/envs/automl/lib/python3.8/site-packages (from tflite-model-maker==0.4.2) (0.21.0)\n",
      "Requirement already satisfied: neural-structured-learning>=1.3.1 in /home/r300/miniconda3/envs/automl/lib/python3.8/site-packages (from tflite-model-maker==0.4.2) (1.4.0)\n",
      "Requirement already satisfied: tensorflow-model-optimization>=0.5 in /home/r300/miniconda3/envs/automl/lib/python3.8/site-packages (from tflite-model-maker==0.4.2) (0.7.0)\n",
      "Requirement already satisfied: Cython>=0.29.13 in /home/r300/miniconda3/envs/automl/lib/python3.8/site-packages (from tflite-model-maker==0.4.2) (3.0.11)\n",
      "Requirement already satisfied: scann==1.2.6 in /home/r300/miniconda3/envs/automl/lib/python3.8/site-packages (from tflite-model-maker==0.4.2) (1.2.6)\n",
      "Requirement already satisfied: tensorflow-hub<0.13,>=0.7.0 in /home/r300/miniconda3/envs/automl/lib/python3.8/site-packages (from tflite-model-maker==0.4.2) (0.12.0)\n",
      "Requirement already satisfied: audioread>=2.0.0 in /home/r300/miniconda3/envs/automl/lib/python3.8/site-packages (from librosa==0.8.1->tflite-model-maker==0.4.2) (3.0.1)\n",
      "Requirement already satisfied: scipy>=1.0.0 in /home/r300/miniconda3/envs/automl/lib/python3.8/site-packages (from librosa==0.8.1->tflite-model-maker==0.4.2) (1.10.1)\n",
      "Requirement already satisfied: scikit-learn!=0.19.0,>=0.14.0 in /home/r300/miniconda3/envs/automl/lib/python3.8/site-packages (from librosa==0.8.1->tflite-model-maker==0.4.2) (1.3.2)\n",
      "Requirement already satisfied: joblib>=0.14 in /home/r300/miniconda3/envs/automl/lib/python3.8/site-packages (from librosa==0.8.1->tflite-model-maker==0.4.2) (1.4.2)\n",
      "Requirement already satisfied: decorator>=3.0.0 in /home/r300/miniconda3/envs/automl/lib/python3.8/site-packages (from librosa==0.8.1->tflite-model-maker==0.4.2) (5.1.1)\n",
      "Requirement already satisfied: resampy>=0.2.2 in /home/r300/miniconda3/envs/automl/lib/python3.8/site-packages (from librosa==0.8.1->tflite-model-maker==0.4.2) (0.4.3)\n",
      "Requirement already satisfied: soundfile>=0.10.2 in /home/r300/miniconda3/envs/automl/lib/python3.8/site-packages (from librosa==0.8.1->tflite-model-maker==0.4.2) (0.12.1)\n",
      "Requirement already satisfied: pooch>=1.0 in /home/r300/miniconda3/envs/automl/lib/python3.8/site-packages (from librosa==0.8.1->tflite-model-maker==0.4.2) (1.8.2)\n",
      "Requirement already satisfied: packaging>=20.0 in /home/r300/miniconda3/envs/automl/lib/python3.8/site-packages (from librosa==0.8.1->tflite-model-maker==0.4.2) (20.9)\n",
      "Requirement already satisfied: llvmlite<0.37,>=0.36.0rc1 in /home/r300/miniconda3/envs/automl/lib/python3.8/site-packages (from numba==0.53->tflite-model-maker==0.4.2) (0.36.0)\n",
      "Requirement already satisfied: setuptools in /home/r300/miniconda3/envs/automl/lib/python3.8/site-packages (from numba==0.53->tflite-model-maker==0.4.2) (72.1.0)\n",
      "Requirement already satisfied: dataclasses in /home/r300/miniconda3/envs/automl/lib/python3.8/site-packages (from tf-models-official==2.3.0->tflite-model-maker==0.4.2) (0.6)\n",
      "Requirement already satisfied: gin-config in /home/r300/miniconda3/envs/automl/lib/python3.8/site-packages (from tf-models-official==2.3.0->tflite-model-maker==0.4.2) (0.5.0)\n",
      "Requirement already satisfied: google-api-python-client>=1.6.7 in /home/r300/miniconda3/envs/automl/lib/python3.8/site-packages (from tf-models-official==2.3.0->tflite-model-maker==0.4.2) (2.142.0)\n",
      "Requirement already satisfied: google-cloud-bigquery>=0.31.0 in /home/r300/miniconda3/envs/automl/lib/python3.8/site-packages (from tf-models-official==2.3.0->tflite-model-maker==0.4.2) (3.25.0)\n",
      "Requirement already satisfied: kaggle>=1.3.9 in /home/r300/miniconda3/envs/automl/lib/python3.8/site-packages (from tf-models-official==2.3.0->tflite-model-maker==0.4.2) (1.6.17)\n",
      "Requirement already satisfied: opencv-python-headless in /home/r300/miniconda3/envs/automl/lib/python3.8/site-packages (from tf-models-official==2.3.0->tflite-model-maker==0.4.2) (4.10.0.84)\n",
      "Requirement already satisfied: pandas>=0.22.0 in /home/r300/miniconda3/envs/automl/lib/python3.8/site-packages (from tf-models-official==2.3.0->tflite-model-maker==0.4.2) (1.4.1)\n",
      "Requirement already satisfied: psutil>=5.4.3 in /home/r300/miniconda3/envs/automl/lib/python3.8/site-packages (from tf-models-official==2.3.0->tflite-model-maker==0.4.2) (6.0.0)\n",
      "Requirement already satisfied: py-cpuinfo>=3.3.0 in /home/r300/miniconda3/envs/automl/lib/python3.8/site-packages (from tf-models-official==2.3.0->tflite-model-maker==0.4.2) (9.0.0)\n",
      "Requirement already satisfied: tf-slim>=1.1.0 in /home/r300/miniconda3/envs/automl/lib/python3.8/site-packages (from tf-models-official==2.3.0->tflite-model-maker==0.4.2) (1.1.0)\n",
      "Requirement already satisfied: termcolor in /home/r300/miniconda3/envs/automl/lib/python3.8/site-packages (from fire>=0.3.1->tflite-model-maker==0.4.2) (2.4.0)\n",
      "Requirement already satisfied: cycler>=0.10 in /home/r300/miniconda3/envs/automl/lib/python3.8/site-packages (from matplotlib<3.5.0,>=3.0.3->tflite-model-maker==0.4.2) (0.12.1)\n",
      "Requirement already satisfied: kiwisolver>=1.0.1 in /home/r300/miniconda3/envs/automl/lib/python3.8/site-packages (from matplotlib<3.5.0,>=3.0.3->tflite-model-maker==0.4.2) (1.4.5)\n",
      "Requirement already satisfied: pyparsing>=2.2.1 in /home/r300/miniconda3/envs/automl/lib/python3.8/site-packages (from matplotlib<3.5.0,>=3.0.3->tflite-model-maker==0.4.2) (3.1.2)\n",
      "Requirement already satisfied: python-dateutil>=2.7 in /home/r300/miniconda3/envs/automl/lib/python3.8/site-packages (from matplotlib<3.5.0,>=3.0.3->tflite-model-maker==0.4.2) (2.9.0.post0)\n",
      "Requirement already satisfied: attrs in /home/r300/miniconda3/envs/automl/lib/python3.8/site-packages (from neural-structured-learning>=1.3.1->tflite-model-maker==0.4.2) (24.2.0)\n",
      "Requirement already satisfied: astunparse>=1.6.0 in /home/r300/miniconda3/envs/automl/lib/python3.8/site-packages (from tensorflow>=2.6.0->tflite-model-maker==0.4.2) (1.6.3)\n",
      "Requirement already satisfied: gast>=0.2.1 in /home/r300/miniconda3/envs/automl/lib/python3.8/site-packages (from tensorflow>=2.6.0->tflite-model-maker==0.4.2) (0.6.0)\n",
      "Requirement already satisfied: google-pasta>=0.1.1 in /home/r300/miniconda3/envs/automl/lib/python3.8/site-packages (from tensorflow>=2.6.0->tflite-model-maker==0.4.2) (0.2.0)\n",
      "Requirement already satisfied: h5py>=2.9.0 in /home/r300/miniconda3/envs/automl/lib/python3.8/site-packages (from tensorflow>=2.6.0->tflite-model-maker==0.4.2) (3.11.0)\n",
      "Requirement already satisfied: keras-preprocessing>=1.1.1 in /home/r300/miniconda3/envs/automl/lib/python3.8/site-packages (from tensorflow>=2.6.0->tflite-model-maker==0.4.2) (1.1.2)\n",
      "Requirement already satisfied: libclang>=9.0.1 in /home/r300/miniconda3/envs/automl/lib/python3.8/site-packages (from tensorflow>=2.6.0->tflite-model-maker==0.4.2) (18.1.1)\n",
      "Requirement already satisfied: opt-einsum>=2.3.2 in /home/r300/miniconda3/envs/automl/lib/python3.8/site-packages (from tensorflow>=2.6.0->tflite-model-maker==0.4.2) (3.3.0)\n",
      "Requirement already satisfied: protobuf>=3.9.2 in /home/r300/miniconda3/envs/automl/lib/python3.8/site-packages (from tensorflow>=2.6.0->tflite-model-maker==0.4.2) (3.20.3)\n",
      "Requirement already satisfied: typing-extensions>=3.6.6 in /home/r300/miniconda3/envs/automl/lib/python3.8/site-packages (from tensorflow>=2.6.0->tflite-model-maker==0.4.2) (4.12.2)\n",
      "Requirement already satisfied: wrapt>=1.11.0 in /home/r300/miniconda3/envs/automl/lib/python3.8/site-packages (from tensorflow>=2.6.0->tflite-model-maker==0.4.2) (1.16.0)\n",
      "Requirement already satisfied: tensorboard<2.9,>=2.8 in /home/r300/miniconda3/envs/automl/lib/python3.8/site-packages (from tensorflow>=2.6.0->tflite-model-maker==0.4.2) (2.8.0)\n",
      "Requirement already satisfied: tf-estimator-nightly==2.8.0.dev2021122109 in /home/r300/miniconda3/envs/automl/lib/python3.8/site-packages (from tensorflow>=2.6.0->tflite-model-maker==0.4.2) (2.8.0.dev2021122109)\n",
      "Requirement already satisfied: keras<2.9,>=2.8.0rc0 in /home/r300/miniconda3/envs/automl/lib/python3.8/site-packages (from tensorflow>=2.6.0->tflite-model-maker==0.4.2) (2.8.0)\n",
      "Requirement already satisfied: tensorflow-io-gcs-filesystem>=0.23.1 in /home/r300/miniconda3/envs/automl/lib/python3.8/site-packages (from tensorflow>=2.6.0->tflite-model-maker==0.4.2) (0.34.0)\n",
      "Requirement already satisfied: grpcio<2.0,>=1.24.3 in /home/r300/miniconda3/envs/automl/lib/python3.8/site-packages (from tensorflow>=2.6.0->tflite-model-maker==0.4.2) (1.65.5)\n",
      "Requirement already satisfied: typeguard<3.0.0,>=2.7 in /home/r300/miniconda3/envs/automl/lib/python3.8/site-packages (from tensorflow-addons>=0.11.2->tflite-model-maker==0.4.2) (2.13.3)\n",
      "Requirement already satisfied: array-record in /home/r300/miniconda3/envs/automl/lib/python3.8/site-packages (from tensorflow-datasets>=2.1.0->tflite-model-maker==0.4.2) (0.4.0)\n",
      "Requirement already satisfied: click in /home/r300/miniconda3/envs/automl/lib/python3.8/site-packages (from tensorflow-datasets>=2.1.0->tflite-model-maker==0.4.2) (8.1.7)\n",
      "Requirement already satisfied: dm-tree in /home/r300/miniconda3/envs/automl/lib/python3.8/site-packages (from tensorflow-datasets>=2.1.0->tflite-model-maker==0.4.2) (0.1.8)\n",
      "Requirement already satisfied: etils>=0.9.0 in /home/r300/miniconda3/envs/automl/lib/python3.8/site-packages (from etils[enp,epath]>=0.9.0->tensorflow-datasets>=2.1.0->tflite-model-maker==0.4.2) (1.3.0)\n",
      "Requirement already satisfied: promise in /home/r300/miniconda3/envs/automl/lib/python3.8/site-packages (from tensorflow-datasets>=2.1.0->tflite-model-maker==0.4.2) (2.3)\n",
      "Requirement already satisfied: requests>=2.19.0 in /home/r300/miniconda3/envs/automl/lib/python3.8/site-packages (from tensorflow-datasets>=2.1.0->tflite-model-maker==0.4.2) (2.32.3)\n",
      "Requirement already satisfied: tensorflow-metadata in /home/r300/miniconda3/envs/automl/lib/python3.8/site-packages (from tensorflow-datasets>=2.1.0->tflite-model-maker==0.4.2) (1.14.0)\n",
      "Requirement already satisfied: toml in /home/r300/miniconda3/envs/automl/lib/python3.8/site-packages (from tensorflow-datasets>=2.1.0->tflite-model-maker==0.4.2) (0.10.2)\n",
      "Requirement already satisfied: tqdm in /home/r300/miniconda3/envs/automl/lib/python3.8/site-packages (from tensorflow-datasets>=2.1.0->tflite-model-maker==0.4.2) (4.66.5)\n",
      "Requirement already satisfied: importlib-resources in /home/r300/miniconda3/envs/automl/lib/python3.8/site-packages (from tensorflow-datasets>=2.1.0->tflite-model-maker==0.4.2) (6.4.3)\n",
      "Requirement already satisfied: sounddevice>=0.4.4 in /home/r300/miniconda3/envs/automl/lib/python3.8/site-packages (from tflite-support>=0.4.2->tflite-model-maker==0.4.2) (0.5.0)\n",
      "Requirement already satisfied: pybind11>=2.6.0 in /home/r300/miniconda3/envs/automl/lib/python3.8/site-packages (from tflite-support>=0.4.2->tflite-model-maker==0.4.2) (2.13.4)\n",
      "Requirement already satisfied: wheel<1.0,>=0.23.0 in /home/r300/miniconda3/envs/automl/lib/python3.8/site-packages (from astunparse>=1.6.0->tensorflow>=2.6.0->tflite-model-maker==0.4.2) (0.43.0)\n",
      "Requirement already satisfied: zipp in /home/r300/miniconda3/envs/automl/lib/python3.8/site-packages (from etils[enp,epath]>=0.9.0->tensorflow-datasets>=2.1.0->tflite-model-maker==0.4.2) (3.20.0)\n",
      "Requirement already satisfied: httplib2<1.dev0,>=0.19.0 in /home/r300/miniconda3/envs/automl/lib/python3.8/site-packages (from google-api-python-client>=1.6.7->tf-models-official==2.3.0->tflite-model-maker==0.4.2) (0.22.0)\n",
      "Requirement already satisfied: google-auth!=2.24.0,!=2.25.0,<3.0.0.dev0,>=1.32.0 in /home/r300/miniconda3/envs/automl/lib/python3.8/site-packages (from google-api-python-client>=1.6.7->tf-models-official==2.3.0->tflite-model-maker==0.4.2) (2.34.0)\n",
      "Requirement already satisfied: google-auth-httplib2<1.0.0,>=0.2.0 in /home/r300/miniconda3/envs/automl/lib/python3.8/site-packages (from google-api-python-client>=1.6.7->tf-models-official==2.3.0->tflite-model-maker==0.4.2) (0.2.0)\n",
      "Requirement already satisfied: google-api-core!=2.0.*,!=2.1.*,!=2.2.*,!=2.3.0,<3.0.0.dev0,>=1.31.5 in /home/r300/miniconda3/envs/automl/lib/python3.8/site-packages (from google-api-python-client>=1.6.7->tf-models-official==2.3.0->tflite-model-maker==0.4.2) (2.19.1)\n",
      "Requirement already satisfied: uritemplate<5,>=3.0.1 in /home/r300/miniconda3/envs/automl/lib/python3.8/site-packages (from google-api-python-client>=1.6.7->tf-models-official==2.3.0->tflite-model-maker==0.4.2) (4.1.1)\n",
      "Requirement already satisfied: google-cloud-core<3.0.0dev,>=1.6.0 in /home/r300/miniconda3/envs/automl/lib/python3.8/site-packages (from google-cloud-bigquery>=0.31.0->tf-models-official==2.3.0->tflite-model-maker==0.4.2) (2.4.1)\n",
      "Requirement already satisfied: google-resumable-media<3.0dev,>=0.6.0 in /home/r300/miniconda3/envs/automl/lib/python3.8/site-packages (from google-cloud-bigquery>=0.31.0->tf-models-official==2.3.0->tflite-model-maker==0.4.2) (2.7.2)\n",
      "Requirement already satisfied: certifi>=2023.7.22 in /home/r300/miniconda3/envs/automl/lib/python3.8/site-packages (from kaggle>=1.3.9->tf-models-official==2.3.0->tflite-model-maker==0.4.2) (2024.7.4)\n",
      "Requirement already satisfied: python-slugify in /home/r300/miniconda3/envs/automl/lib/python3.8/site-packages (from kaggle>=1.3.9->tf-models-official==2.3.0->tflite-model-maker==0.4.2) (8.0.4)\n",
      "Requirement already satisfied: bleach in /home/r300/miniconda3/envs/automl/lib/python3.8/site-packages (from kaggle>=1.3.9->tf-models-official==2.3.0->tflite-model-maker==0.4.2) (6.1.0)\n",
      "Requirement already satisfied: pytz>=2020.1 in /home/r300/miniconda3/envs/automl/lib/python3.8/site-packages (from pandas>=0.22.0->tf-models-official==2.3.0->tflite-model-maker==0.4.2) (2024.1)\n",
      "Requirement already satisfied: platformdirs>=2.5.0 in /home/r300/miniconda3/envs/automl/lib/python3.8/site-packages (from pooch>=1.0->librosa==0.8.1->tflite-model-maker==0.4.2) (4.2.2)\n",
      "Requirement already satisfied: charset-normalizer<4,>=2 in /home/r300/miniconda3/envs/automl/lib/python3.8/site-packages (from requests>=2.19.0->tensorflow-datasets>=2.1.0->tflite-model-maker==0.4.2) (3.3.2)\n",
      "Requirement already satisfied: idna<4,>=2.5 in /home/r300/miniconda3/envs/automl/lib/python3.8/site-packages (from requests>=2.19.0->tensorflow-datasets>=2.1.0->tflite-model-maker==0.4.2) (3.7)\n",
      "Requirement already satisfied: threadpoolctl>=2.0.0 in /home/r300/miniconda3/envs/automl/lib/python3.8/site-packages (from scikit-learn!=0.19.0,>=0.14.0->librosa==0.8.1->tflite-model-maker==0.4.2) (3.5.0)\n",
      "Requirement already satisfied: CFFI>=1.0 in /home/r300/miniconda3/envs/automl/lib/python3.8/site-packages (from sounddevice>=0.4.4->tflite-support>=0.4.2->tflite-model-maker==0.4.2) (1.17.0)\n",
      "Requirement already satisfied: google-auth-oauthlib<0.5,>=0.4.1 in /home/r300/miniconda3/envs/automl/lib/python3.8/site-packages (from tensorboard<2.9,>=2.8->tensorflow>=2.6.0->tflite-model-maker==0.4.2) (0.4.6)\n",
      "Requirement already satisfied: markdown>=2.6.8 in /home/r300/miniconda3/envs/automl/lib/python3.8/site-packages (from tensorboard<2.9,>=2.8->tensorflow>=2.6.0->tflite-model-maker==0.4.2) (3.7)\n",
      "Requirement already satisfied: tensorboard-data-server<0.7.0,>=0.6.0 in /home/r300/miniconda3/envs/automl/lib/python3.8/site-packages (from tensorboard<2.9,>=2.8->tensorflow>=2.6.0->tflite-model-maker==0.4.2) (0.6.1)\n",
      "Requirement already satisfied: tensorboard-plugin-wit>=1.6.0 in /home/r300/miniconda3/envs/automl/lib/python3.8/site-packages (from tensorboard<2.9,>=2.8->tensorflow>=2.6.0->tflite-model-maker==0.4.2) (1.8.1)\n",
      "Requirement already satisfied: werkzeug>=0.11.15 in /home/r300/miniconda3/envs/automl/lib/python3.8/site-packages (from tensorboard<2.9,>=2.8->tensorflow>=2.6.0->tflite-model-maker==0.4.2) (3.0.3)\n",
      "Requirement already satisfied: googleapis-common-protos<2,>=1.52.0 in /home/r300/miniconda3/envs/automl/lib/python3.8/site-packages (from tensorflow-metadata->tensorflow-datasets>=2.1.0->tflite-model-maker==0.4.2) (1.63.2)\n",
      "Requirement already satisfied: pycparser in /home/r300/miniconda3/envs/automl/lib/python3.8/site-packages (from CFFI>=1.0->sounddevice>=0.4.4->tflite-support>=0.4.2->tflite-model-maker==0.4.2) (2.22)\n",
      "Requirement already satisfied: proto-plus<2.0.0dev,>=1.22.3 in /home/r300/miniconda3/envs/automl/lib/python3.8/site-packages (from google-api-core!=2.0.*,!=2.1.*,!=2.2.*,!=2.3.0,<3.0.0.dev0,>=1.31.5->google-api-python-client>=1.6.7->tf-models-official==2.3.0->tflite-model-maker==0.4.2) (1.24.0)\n",
      "Requirement already satisfied: grpcio-status<2.0.dev0,>=1.33.2 in /home/r300/miniconda3/envs/automl/lib/python3.8/site-packages (from google-api-core[grpc]!=2.0.*,!=2.1.*,!=2.10.*,!=2.2.*,!=2.3.*,!=2.4.*,!=2.5.*,!=2.6.*,!=2.7.*,!=2.8.*,!=2.9.*,<3.0.0dev,>=1.34.1->google-cloud-bigquery>=0.31.0->tf-models-official==2.3.0->tflite-model-maker==0.4.2) (1.48.2)\n",
      "Requirement already satisfied: cachetools<6.0,>=2.0.0 in /home/r300/miniconda3/envs/automl/lib/python3.8/site-packages (from google-auth!=2.24.0,!=2.25.0,<3.0.0.dev0,>=1.32.0->google-api-python-client>=1.6.7->tf-models-official==2.3.0->tflite-model-maker==0.4.2) (5.5.0)\n",
      "Requirement already satisfied: pyasn1-modules>=0.2.1 in /home/r300/miniconda3/envs/automl/lib/python3.8/site-packages (from google-auth!=2.24.0,!=2.25.0,<3.0.0.dev0,>=1.32.0->google-api-python-client>=1.6.7->tf-models-official==2.3.0->tflite-model-maker==0.4.2) (0.4.0)\n",
      "Requirement already satisfied: rsa<5,>=3.1.4 in /home/r300/miniconda3/envs/automl/lib/python3.8/site-packages (from google-auth!=2.24.0,!=2.25.0,<3.0.0.dev0,>=1.32.0->google-api-python-client>=1.6.7->tf-models-official==2.3.0->tflite-model-maker==0.4.2) (4.9)\n",
      "Requirement already satisfied: requests-oauthlib>=0.7.0 in /home/r300/miniconda3/envs/automl/lib/python3.8/site-packages (from google-auth-oauthlib<0.5,>=0.4.1->tensorboard<2.9,>=2.8->tensorflow>=2.6.0->tflite-model-maker==0.4.2) (2.0.0)\n",
      "Requirement already satisfied: google-crc32c<2.0dev,>=1.0 in /home/r300/miniconda3/envs/automl/lib/python3.8/site-packages (from google-resumable-media<3.0dev,>=0.6.0->google-cloud-bigquery>=0.31.0->tf-models-official==2.3.0->tflite-model-maker==0.4.2) (1.5.0)\n",
      "Requirement already satisfied: importlib-metadata>=4.4 in /home/r300/miniconda3/envs/automl/lib/python3.8/site-packages (from markdown>=2.6.8->tensorboard<2.9,>=2.8->tensorflow>=2.6.0->tflite-model-maker==0.4.2) (8.4.0)\n",
      "Requirement already satisfied: MarkupSafe>=2.1.1 in /home/r300/miniconda3/envs/automl/lib/python3.8/site-packages (from werkzeug>=0.11.15->tensorboard<2.9,>=2.8->tensorflow>=2.6.0->tflite-model-maker==0.4.2) (2.1.5)\n",
      "Requirement already satisfied: webencodings in /home/r300/miniconda3/envs/automl/lib/python3.8/site-packages (from bleach->kaggle>=1.3.9->tf-models-official==2.3.0->tflite-model-maker==0.4.2) (0.5.1)\n",
      "Requirement already satisfied: text-unidecode>=1.3 in /home/r300/miniconda3/envs/automl/lib/python3.8/site-packages (from python-slugify->kaggle>=1.3.9->tf-models-official==2.3.0->tflite-model-maker==0.4.2) (1.3)\n",
      "Requirement already satisfied: pyasn1<0.7.0,>=0.4.6 in /home/r300/miniconda3/envs/automl/lib/python3.8/site-packages (from pyasn1-modules>=0.2.1->google-auth!=2.24.0,!=2.25.0,<3.0.0.dev0,>=1.32.0->google-api-python-client>=1.6.7->tf-models-official==2.3.0->tflite-model-maker==0.4.2) (0.6.0)\n",
      "Requirement already satisfied: oauthlib>=3.0.0 in /home/r300/miniconda3/envs/automl/lib/python3.8/site-packages (from requests-oauthlib>=0.7.0->google-auth-oauthlib<0.5,>=0.4.1->tensorboard<2.9,>=2.8->tensorflow>=2.6.0->tflite-model-maker==0.4.2) (3.2.2)\n",
      "Requirement already satisfied: tf2onnx in /home/r300/miniconda3/envs/automl/lib/python3.8/site-packages (1.16.1)\n",
      "Requirement already satisfied: numpy>=1.14.1 in /home/r300/miniconda3/envs/automl/lib/python3.8/site-packages (from tf2onnx) (1.23.5)\n",
      "Requirement already satisfied: onnx>=1.4.1 in /home/r300/miniconda3/envs/automl/lib/python3.8/site-packages (from tf2onnx) (1.16.2)\n",
      "Requirement already satisfied: requests in /home/r300/miniconda3/envs/automl/lib/python3.8/site-packages (from tf2onnx) (2.32.3)\n",
      "Requirement already satisfied: six in /home/r300/miniconda3/envs/automl/lib/python3.8/site-packages (from tf2onnx) (1.16.0)\n",
      "Requirement already satisfied: flatbuffers>=1.12 in /home/r300/miniconda3/envs/automl/lib/python3.8/site-packages (from tf2onnx) (24.3.25)\n",
      "Requirement already satisfied: protobuf~=3.20 in /home/r300/miniconda3/envs/automl/lib/python3.8/site-packages (from tf2onnx) (3.20.3)\n",
      "Requirement already satisfied: charset-normalizer<4,>=2 in /home/r300/miniconda3/envs/automl/lib/python3.8/site-packages (from requests->tf2onnx) (3.3.2)\n",
      "Requirement already satisfied: idna<4,>=2.5 in /home/r300/miniconda3/envs/automl/lib/python3.8/site-packages (from requests->tf2onnx) (3.7)\n",
      "Requirement already satisfied: urllib3<3,>=1.21.1 in /home/r300/miniconda3/envs/automl/lib/python3.8/site-packages (from requests->tf2onnx) (1.21.1)\n",
      "Requirement already satisfied: certifi>=2017.4.17 in /home/r300/miniconda3/envs/automl/lib/python3.8/site-packages (from requests->tf2onnx) (2024.7.4)\n"
     ]
    }
   ],
   "source": [
    "!pip install tensorflow-model-optimization==0.7.0\n",
    "!pip install tensorflowjs==3.18.0\n",
    "!pip install twine==1.9.0\n",
    "!pip install urllib3==1.21.1\n",
    "!pip install pandas==1.4.1\n",
    "!pip install numpy==1.23.5\n",
    "!pip install numba==0.53\n",
    "!pip install tflite-model-maker==0.4.2\n",
    "!pip install tf2onnx"
   ]
  },
  {
   "cell_type": "markdown",
   "metadata": {
    "id": "0Ek9ev_GoEsH"
   },
   "source": [
    "### Step2. Load and Export Model Configuration"
   ]
  },
  {
   "cell_type": "markdown",
   "metadata": {
    "id": "DK98eSNLrVmI"
   },
   "source": [
    "Download and extract the sample dataset for object detection, which compatible format is:\n",
    "  * [Pascal_Voc](https://itriaihub.blob.core.windows.net/datasets/Detect_HardHat_244x244.pascal_voc.tar.xz)"
   ]
  },
  {
   "cell_type": "code",
   "execution_count": 2,
   "metadata": {
    "id": "yC7o9BfyrTeC",
    "scrolled": true
   },
   "outputs": [
    {
     "name": "stderr",
     "output_type": "stream",
     "text": [
      "2024-08-21 21:12:24.869353: W tensorflow/stream_executor/platform/default/dso_loader.cc:64] Could not load dynamic library 'libcudart.so.11.0'; dlerror: libcudart.so.11.0: cannot open shared object file: No such file or directory\n",
      "2024-08-21 21:12:24.869372: I tensorflow/stream_executor/cuda/cudart_stub.cc:29] Ignore above cudart dlerror if you do not have a GPU set up on your machine.\n",
      "/home/r300/miniconda3/envs/automl/lib/python3.8/site-packages/tensorflow_addons/utils/tfa_eol_msg.py:23: UserWarning: \n",
      "\n",
      "TensorFlow Addons (TFA) has ended development and introduction of new features.\n",
      "TFA has entered a minimal maintenance and release mode until a planned end of life in May 2024.\n",
      "Please modify downstream libraries to take dependencies from other repositories in our TensorFlow community (e.g. Keras, Keras-CV, and Keras-NLP). \n",
      "\n",
      "For more information see: https://github.com/tensorflow/addons/issues/2807 \n",
      "\n",
      "  warnings.warn(\n",
      "/home/r300/miniconda3/envs/automl/lib/python3.8/site-packages/tensorflow_addons/utils/ensure_tf_install.py:53: UserWarning: Tensorflow Addons supports using Python ops for all Tensorflow versions above or equal to 2.11.0 and strictly below 2.14.0 (nightly versions are not supported). \n",
      " The versions of TensorFlow you are currently using is 2.8.0 and is not supported. \n",
      "Some things might work, some things might not.\n",
      "If you were to encounter a bug, do not file an issue.\n",
      "If you want to make sure you're using a tested and supported configuration, either change the TensorFlow version or the TensorFlow Addons's version. \n",
      "You can find the compatibility matrix in TensorFlow Addon's readme:\n",
      "https://github.com/tensorflow/addons\n",
      "  warnings.warn(\n"
     ]
    },
    {
     "name": "stdout",
     "output_type": "stream",
     "text": [
      "INFO:tensorflow:Cache will be stored in /tmp/tmp7x6wvb_z with prefix filename 7bee435cfee6949ada7cad38d32e815e. Cache_prefix is /tmp/tmp7x6wvb_z/7bee435cfee6949ada7cad38d32e815e\n",
      "INFO:tensorflow:On image 0\n",
      "INFO:tensorflow:On image 100\n",
      "INFO:tensorflow:On image 200\n",
      "INFO:tensorflow:Cache will be stored in /tmp/tmpgkg5fe5c with prefix filename fd42585a6188df7d3abc4e516ad0ebb5. Cache_prefix is /tmp/tmpgkg5fe5c/fd42585a6188df7d3abc4e516ad0ebb5\n",
      "INFO:tensorflow:On image 0\n"
     ]
    }
   ],
   "source": [
    "from tflite_model_maker import object_detector\n",
    "import numpy as np\n",
    "\n",
    "DATASET_FOLDER_PATH = 'Detect_HardHat_244x244.pascal_voc'\n",
    "CLASSES = np.load(f'{DATASET_FOLDER_PATH}/data.npy').tolist()\n",
    "\n",
    "train_data = object_detector.DataLoader.from_pascal_voc(f'{DATASET_FOLDER_PATH}/train', f'{DATASET_FOLDER_PATH}/train', CLASSES)\n",
    "valid_data = object_detector.DataLoader.from_pascal_voc(f'{DATASET_FOLDER_PATH}/test', f'{DATASET_FOLDER_PATH}/test', CLASSES)"
   ]
  },
  {
   "cell_type": "markdown",
   "metadata": {
    "id": "-CVdbC5uoNCk"
   },
   "source": [
    "Build Model with Training"
   ]
  },
  {
   "cell_type": "code",
   "execution_count": 3,
   "metadata": {
    "id": "eYKNtEVJqrfc",
    "scrolled": true
   },
   "outputs": [
    {
     "name": "stdout",
     "output_type": "stream",
     "text": [
      "INFO:tensorflow:Retraining the models...\n"
     ]
    },
    {
     "name": "stderr",
     "output_type": "stream",
     "text": [
      "2024-08-21 21:12:27.955551: I tensorflow/stream_executor/cuda/cuda_gpu_executor.cc:936] successful NUMA node read from SysFS had negative value (-1), but there must be at least one NUMA node, so returning NUMA node zero\n",
      "2024-08-21 21:12:27.955753: W tensorflow/stream_executor/platform/default/dso_loader.cc:64] Could not load dynamic library 'libcudart.so.11.0'; dlerror: libcudart.so.11.0: cannot open shared object file: No such file or directory; LD_LIBRARY_PATH: /home/r300/miniconda3/envs/automl/lib/python3.8/site-packages/cv2/../../lib64:\n",
      "2024-08-21 21:12:27.955821: W tensorflow/stream_executor/platform/default/dso_loader.cc:64] Could not load dynamic library 'libcublas.so.11'; dlerror: libcublas.so.11: cannot open shared object file: No such file or directory; LD_LIBRARY_PATH: /home/r300/miniconda3/envs/automl/lib/python3.8/site-packages/cv2/../../lib64:\n",
      "2024-08-21 21:12:27.955883: W tensorflow/stream_executor/platform/default/dso_loader.cc:64] Could not load dynamic library 'libcublasLt.so.11'; dlerror: libcublasLt.so.11: cannot open shared object file: No such file or directory; LD_LIBRARY_PATH: /home/r300/miniconda3/envs/automl/lib/python3.8/site-packages/cv2/../../lib64:\n",
      "2024-08-21 21:12:27.955944: W tensorflow/stream_executor/platform/default/dso_loader.cc:64] Could not load dynamic library 'libcufft.so.10'; dlerror: libcufft.so.10: cannot open shared object file: No such file or directory; LD_LIBRARY_PATH: /home/r300/miniconda3/envs/automl/lib/python3.8/site-packages/cv2/../../lib64:\n",
      "2024-08-21 21:12:27.956004: W tensorflow/stream_executor/platform/default/dso_loader.cc:64] Could not load dynamic library 'libcurand.so.10'; dlerror: libcurand.so.10: cannot open shared object file: No such file or directory; LD_LIBRARY_PATH: /home/r300/miniconda3/envs/automl/lib/python3.8/site-packages/cv2/../../lib64:\n",
      "2024-08-21 21:12:27.956064: W tensorflow/stream_executor/platform/default/dso_loader.cc:64] Could not load dynamic library 'libcusolver.so.11'; dlerror: libcusolver.so.11: cannot open shared object file: No such file or directory; LD_LIBRARY_PATH: /home/r300/miniconda3/envs/automl/lib/python3.8/site-packages/cv2/../../lib64:\n",
      "2024-08-21 21:12:27.956126: W tensorflow/stream_executor/platform/default/dso_loader.cc:64] Could not load dynamic library 'libcusparse.so.11'; dlerror: libcusparse.so.11: cannot open shared object file: No such file or directory; LD_LIBRARY_PATH: /home/r300/miniconda3/envs/automl/lib/python3.8/site-packages/cv2/../../lib64:\n",
      "2024-08-21 21:12:27.956187: W tensorflow/stream_executor/platform/default/dso_loader.cc:64] Could not load dynamic library 'libcudnn.so.8'; dlerror: libcudnn.so.8: cannot open shared object file: No such file or directory; LD_LIBRARY_PATH: /home/r300/miniconda3/envs/automl/lib/python3.8/site-packages/cv2/../../lib64:\n",
      "2024-08-21 21:12:27.956197: W tensorflow/core/common_runtime/gpu/gpu_device.cc:1850] Cannot dlopen some GPU libraries. Please make sure the missing libraries mentioned above are installed properly if you would like to use GPU. Follow the guide at https://www.tensorflow.org/install/gpu for how to download and setup the required libraries for your platform.\n",
      "Skipping registering GPU devices...\n",
      "2024-08-21 21:12:27.956764: I tensorflow/core/platform/cpu_feature_guard.cc:151] This TensorFlow binary is optimized with oneAPI Deep Neural Network Library (oneDNN) to use the following CPU instructions in performance-critical operations:  AVX2 FMA\n",
      "To enable them in other operations, rebuild TensorFlow with the appropriate compiler flags.\n",
      "2024-08-21 21:13:07.044893: W tensorflow/core/framework/dataset.cc:768] Input of GeneratorDatasetOp::Dataset will not be optimized because the dataset does not implement the AsGraphDefInternal() method needed to apply optimizations.\n"
     ]
    },
    {
     "name": "stdout",
     "output_type": "stream",
     "text": [
      "26/26 [==============================] - ETA: 0s - det_loss: 1.6445 - cls_loss: 1.0988 - box_loss: 0.0109 - reg_l2_loss: 0.1080 - loss: 1.7525 - learning_rate: 0.0090 - gradient_norm: 1.0497 "
     ]
    },
    {
     "name": "stderr",
     "output_type": "stream",
     "text": [
      "2024-08-21 21:18:27.056654: W tensorflow/core/framework/dataset.cc:768] Input of GeneratorDatasetOp::Dataset will not be optimized because the dataset does not implement the AsGraphDefInternal() method needed to apply optimizations.\n"
     ]
    },
    {
     "name": "stdout",
     "output_type": "stream",
     "text": [
      "26/26 [==============================] - 327s 11s/step - det_loss: 1.6381 - cls_loss: 1.0937 - box_loss: 0.0109 - reg_l2_loss: 0.1080 - loss: 1.7461 - learning_rate: 0.0090 - gradient_norm: 1.1114 - val_det_loss: 1.4047 - val_cls_loss: 0.8334 - val_box_loss: 0.0114 - val_reg_l2_loss: 0.1080 - val_loss: 1.5127\n"
     ]
    }
   ],
   "source": [
    "from tflite_model_maker import model_spec\n",
    "import tensorflow as tf\n",
    "\n",
    "BACKBONE = 'efficientdet_lite4' # @param [\"efficientdet_lite0\", \"efficientdet_lite1\", \"efficientdet_lite2\", \"efficientdet_lite3\", \"efficientdet_lite4\"]\n",
    "\n",
    "# Pre-train is necessary in AutoML Framework\n",
    "model = object_detector.create(train_data, model_spec=model_spec.get(BACKBONE), epochs=1, batch_size=8,\n",
    "                               train_whole_model=True, validation_data=valid_data)"
   ]
  },
  {
   "cell_type": "markdown",
   "metadata": {},
   "source": [
    "We can preview `Params` of this model via Summary() and fill it to ITRI-AI-Hub*"
   ]
  },
  {
   "cell_type": "code",
   "execution_count": 4,
   "metadata": {},
   "outputs": [
    {
     "name": "stdout",
     "output_type": "stream",
     "text": [
      "Model: \"\"\n",
      "_________________________________________________________________\n",
      " Layer (type)                Output Shape              Param #   \n",
      "=================================================================\n",
      " keras_layer (KerasLayer)    multiple                  15092016  \n",
      "                                                                 \n",
      " class_net/class-predict (Se  multiple                 8091      \n",
      " parableConv2D)                                                  \n",
      "                                                                 \n",
      " box_net/box-predict (Separa  multiple                 10116     \n",
      " bleConv2D)                                                      \n",
      "                                                                 \n",
      "=================================================================\n",
      "Total params: 15,110,223\n",
      "Trainable params: 14,954,719\n",
      "Non-trainable params: 155,504\n",
      "_________________________________________________________________\n"
     ]
    }
   ],
   "source": [
    "model.summary()"
   ]
  },
  {
   "cell_type": "markdown",
   "metadata": {
    "id": "kzT0zx5Rs3Ze"
   },
   "source": [
    "3. Export the model and upload to [ITRI Azure Instance]() and link to [Mode Zoo]()."
   ]
  },
  {
   "cell_type": "markdown",
   "metadata": {},
   "source": [
    "* **Format 1**: TFLite\n",
    "(*We can preview `GFLOPS` of this model via console outputs and fill it to ITRI-AI-Hub**)"
   ]
  },
  {
   "cell_type": "code",
   "execution_count": 5,
   "metadata": {
    "scrolled": true
   },
   "outputs": [
    {
     "name": "stdout",
     "output_type": "stream",
     "text": [
      "WARNING:tensorflow:Skipping full serialization of Keras layer <tensorflow_examples.lite.model_maker.core.task.model_spec.object_detector_spec.ExportModel object at 0x7f7794fba4c0>, because it is not built.\n"
     ]
    },
    {
     "name": "stderr",
     "output_type": "stream",
     "text": [
      "WARNING:tensorflow:Skipping full serialization of Keras layer <tensorflow_examples.lite.model_maker.core.task.model_spec.object_detector_spec.ExportModel object at 0x7f7794fba4c0>, because it is not built.\n",
      "2024-08-21 21:18:35.737074: W tensorflow/python/util/util.cc:368] Sets are not currently considered sequences, but this may change in the future, so consider avoiding using them.\n",
      "WARNING:absl:Found untraced functions such as restored_function_body, restored_function_body, restored_function_body, restored_function_body, restored_function_body while saving (showing 5 of 1028). These functions will not be directly callable after loading.\n"
     ]
    },
    {
     "name": "stdout",
     "output_type": "stream",
     "text": [
      "INFO:tensorflow:Assets written to: /tmp/tmp1cou2lff/assets\n"
     ]
    },
    {
     "name": "stderr",
     "output_type": "stream",
     "text": [
      "INFO:tensorflow:Assets written to: /tmp/tmp1cou2lff/assets\n",
      "2024-08-21 21:19:15.205015: W tensorflow/core/common_runtime/graph_constructor.cc:803] Node 'resample_p7/PartitionedCall' has 1 outputs but the _output_shapes attribute specifies shapes for 3 outputs. Output shapes may be inaccurate.\n",
      "2024-08-21 21:19:26.568905: W tensorflow/compiler/mlir/lite/python/tf_tfl_flatbuffer_helpers.cc:357] Ignored output_format.\n",
      "2024-08-21 21:19:26.568930: W tensorflow/compiler/mlir/lite/python/tf_tfl_flatbuffer_helpers.cc:360] Ignored drop_control_dependency.\n",
      "2024-08-21 21:19:26.569658: I tensorflow/cc/saved_model/reader.cc:43] Reading SavedModel from: /tmp/tmp1cou2lff\n",
      "2024-08-21 21:19:26.728294: I tensorflow/cc/saved_model/reader.cc:78] Reading meta graph with tags { serve }\n",
      "2024-08-21 21:19:26.728326: I tensorflow/cc/saved_model/reader.cc:119] Reading SavedModel debug info (if present) from: /tmp/tmp1cou2lff\n",
      "2024-08-21 21:19:27.237252: I tensorflow/cc/saved_model/loader.cc:228] Restoring SavedModel bundle.\n",
      "2024-08-21 21:19:30.257187: I tensorflow/cc/saved_model/loader.cc:212] Running initialization op on SavedModel bundle at path: /tmp/tmp1cou2lff\n",
      "2024-08-21 21:19:31.487319: I tensorflow/cc/saved_model/loader.cc:301] SavedModel load for tags { serve }; Status: success: OK. Took 4917664 microseconds.\n",
      "2024-08-21 21:19:33.454359: I tensorflow/compiler/mlir/tensorflow/utils/dump_mlir_util.cc:237] disabling MLIR crash reproducer, set env var `MLIR_CRASH_REPRODUCER_DIRECTORY` to enable.\n",
      "2024-08-21 21:19:36.314863: I tensorflow/compiler/mlir/lite/flatbuffer_export.cc:1963] Estimated count of arithmetic ops: 37.615 G  ops, equivalently 18.808 G  MACs\n",
      "\n",
      "fully_quantize: 0, inference_type: 6, input_inference_type: 3, output_inference_type: 0\n",
      "2024-08-21 21:28:10.754624: I tensorflow/compiler/mlir/lite/flatbuffer_export.cc:1963] Estimated count of arithmetic ops: 37.615 G  ops, equivalently 18.808 G  MACs\n",
      "\n"
     ]
    },
    {
     "name": "stdout",
     "output_type": "stream",
     "text": [
      "INFO:tensorflow:Label file is inside the TFLite model with metadata.\n"
     ]
    },
    {
     "name": "stderr",
     "output_type": "stream",
     "text": [
      "INFO:tensorflow:Label file is inside the TFLite model with metadata.\n"
     ]
    },
    {
     "name": "stdout",
     "output_type": "stream",
     "text": [
      "INFO:tensorflow:Saving labels in /tmp/tmp6c4_cp3r/labelmap.txt.\n"
     ]
    },
    {
     "name": "stderr",
     "output_type": "stream",
     "text": [
      "INFO:tensorflow:Saving labels in /tmp/tmp6c4_cp3r/labelmap.txt.\n"
     ]
    },
    {
     "name": "stdout",
     "output_type": "stream",
     "text": [
      "INFO:tensorflow:TensorFlow Lite model exported successfully: efficientdet_lite4/model.tflite\n"
     ]
    },
    {
     "name": "stderr",
     "output_type": "stream",
     "text": [
      "INFO:tensorflow:TensorFlow Lite model exported successfully: efficientdet_lite4/model.tflite\n"
     ]
    }
   ],
   "source": [
    "from tflite_model_maker.config import ExportFormat\n",
    "\n",
    "model.export(export_dir=f'{BACKBONE}', export_format=[ExportFormat.TFLITE])"
   ]
  },
  {
   "cell_type": "markdown",
   "metadata": {},
   "source": [
    "* **Format 2**: ONNX"
   ]
  },
  {
   "cell_type": "code",
   "execution_count": 6,
   "metadata": {
    "scrolled": true
   },
   "outputs": [
    {
     "name": "stdout",
     "output_type": "stream",
     "text": [
      "2024-08-21 21:28:12.684487: W tensorflow/stream_executor/platform/default/dso_loader.cc:64] Could not load dynamic library 'libcudart.so.11.0'; dlerror: libcudart.so.11.0: cannot open shared object file: No such file or directory; LD_LIBRARY_PATH: /home/r300/miniconda3/envs/automl/lib/python3.8/site-packages/cv2/../../lib64:\n",
      "2024-08-21 21:28:12.684509: I tensorflow/stream_executor/cuda/cudart_stub.cc:29] Ignore above cudart dlerror if you do not have a GPU set up on your machine.\n",
      "/home/r300/miniconda3/envs/automl/lib/python3.8/runpy.py:125: RuntimeWarning: 'tf2onnx.convert' found in sys.modules after import of package 'tf2onnx', but prior to execution of 'tf2onnx.convert'; this may result in unpredictable behaviour\n",
      "  warn(RuntimeWarning(msg))\n",
      "2024-08-21 21:28:14.041966: I tensorflow/stream_executor/cuda/cuda_gpu_executor.cc:936] successful NUMA node read from SysFS had negative value (-1), but there must be at least one NUMA node, so returning NUMA node zero\n",
      "2024-08-21 21:28:14.042118: W tensorflow/stream_executor/platform/default/dso_loader.cc:64] Could not load dynamic library 'libcudart.so.11.0'; dlerror: libcudart.so.11.0: cannot open shared object file: No such file or directory; LD_LIBRARY_PATH: /home/r300/miniconda3/envs/automl/lib/python3.8/site-packages/cv2/../../lib64:\n",
      "2024-08-21 21:28:14.042174: W tensorflow/stream_executor/platform/default/dso_loader.cc:64] Could not load dynamic library 'libcublas.so.11'; dlerror: libcublas.so.11: cannot open shared object file: No such file or directory; LD_LIBRARY_PATH: /home/r300/miniconda3/envs/automl/lib/python3.8/site-packages/cv2/../../lib64:\n",
      "2024-08-21 21:28:14.042226: W tensorflow/stream_executor/platform/default/dso_loader.cc:64] Could not load dynamic library 'libcublasLt.so.11'; dlerror: libcublasLt.so.11: cannot open shared object file: No such file or directory; LD_LIBRARY_PATH: /home/r300/miniconda3/envs/automl/lib/python3.8/site-packages/cv2/../../lib64:\n",
      "2024-08-21 21:28:14.042278: W tensorflow/stream_executor/platform/default/dso_loader.cc:64] Could not load dynamic library 'libcufft.so.10'; dlerror: libcufft.so.10: cannot open shared object file: No such file or directory; LD_LIBRARY_PATH: /home/r300/miniconda3/envs/automl/lib/python3.8/site-packages/cv2/../../lib64:\n",
      "2024-08-21 21:28:14.042328: W tensorflow/stream_executor/platform/default/dso_loader.cc:64] Could not load dynamic library 'libcurand.so.10'; dlerror: libcurand.so.10: cannot open shared object file: No such file or directory; LD_LIBRARY_PATH: /home/r300/miniconda3/envs/automl/lib/python3.8/site-packages/cv2/../../lib64:\n",
      "2024-08-21 21:28:14.042378: W tensorflow/stream_executor/platform/default/dso_loader.cc:64] Could not load dynamic library 'libcusolver.so.11'; dlerror: libcusolver.so.11: cannot open shared object file: No such file or directory; LD_LIBRARY_PATH: /home/r300/miniconda3/envs/automl/lib/python3.8/site-packages/cv2/../../lib64:\n",
      "2024-08-21 21:28:14.042428: W tensorflow/stream_executor/platform/default/dso_loader.cc:64] Could not load dynamic library 'libcusparse.so.11'; dlerror: libcusparse.so.11: cannot open shared object file: No such file or directory; LD_LIBRARY_PATH: /home/r300/miniconda3/envs/automl/lib/python3.8/site-packages/cv2/../../lib64:\n",
      "2024-08-21 21:28:14.042479: W tensorflow/stream_executor/platform/default/dso_loader.cc:64] Could not load dynamic library 'libcudnn.so.8'; dlerror: libcudnn.so.8: cannot open shared object file: No such file or directory; LD_LIBRARY_PATH: /home/r300/miniconda3/envs/automl/lib/python3.8/site-packages/cv2/../../lib64:\n",
      "2024-08-21 21:28:14.042490: W tensorflow/core/common_runtime/gpu/gpu_device.cc:1850] Cannot dlopen some GPU libraries. Please make sure the missing libraries mentioned above are installed properly if you would like to use GPU. Follow the guide at https://www.tensorflow.org/install/gpu for how to download and setup the required libraries for your platform.\n",
      "Skipping registering GPU devices...\n",
      "2024-08-21 21:28:14.042689: I tensorflow/core/platform/cpu_feature_guard.cc:151] This TensorFlow binary is optimized with oneAPI Deep Neural Network Library (oneDNN) to use the following CPU instructions in performance-critical operations:  AVX2 FMA\n",
      "To enable them in other operations, rebuild TensorFlow with the appropriate compiler flags.\n",
      "2024-08-21 21:28:14,044 - INFO - Using tensorflow=2.8.0, onnx=1.16.2, tf2onnx=1.16.1/15c810\n",
      "2024-08-21 21:28:14,044 - INFO - Using opset <onnx, 16>\n",
      "INFO: Created TensorFlow Lite XNNPACK delegate for CPU.\n",
      "2024-08-21 21:28:16,261 - WARNING - NMS node StatefulPartitionedCall:3 uses fast NMS. ONNX will approximate with standard NMS.\n",
      "2024-08-21 21:28:16,522 - INFO - Optimizing ONNX model\n",
      "2024-08-21 21:28:49,886 - INFO - After optimization: Cast -10 (12->2), Const -2839 (4173->1334), DequantizeLinear -49 (1049->1000), Identity -4 (4->0), QuantizeLinear -12 (480->468), Reshape -136 (146->10), Transpose -1337 (1349->12)\n",
      "2024-08-21 21:28:50,076 - INFO - \n",
      "2024-08-21 21:28:50,076 - INFO - Successfully converted TensorFlow model efficientdet_lite4/model.tflite to ONNX\n",
      "2024-08-21 21:28:50,076 - INFO - Model inputs: ['serving_default_images:0']\n",
      "2024-08-21 21:28:50,076 - INFO - Model outputs: ['StatefulPartitionedCall:1', 'StatefulPartitionedCall:3', 'StatefulPartitionedCall:0', 'StatefulPartitionedCall:2']\n",
      "2024-08-21 21:28:50,076 - INFO - ONNX model is saved at efficientdet_lite4/model.onnx\n"
     ]
    }
   ],
   "source": [
    "!python -m tf2onnx.convert --opset 16 --tflite {BACKBONE}/model.tflite --output {BACKBONE}/model.onnx"
   ]
  },
  {
   "cell_type": "markdown",
   "metadata": {},
   "source": [
    "### Output differents after export (*not prepared yet)"
   ]
  },
  {
   "cell_type": "markdown",
   "metadata": {
    "id": "iWKlaZBcsED6"
   },
   "source": [
    "### Benchmarking\n",
    "> * You can request access to `model_zo_library` from your ITRI-AI-Hub collaborator and port the `model` and `model_zoo_library` on your device to implement the standardised test procedure.\n",
    ">   \n",
    ">   ```bash\n",
    ">   git clone https://github.com/R300-AI/model_zoo_library.git\n",
    ">   cd model_zoo_library\n",
    ">\n",
    ">   python3 profile.py --model <path-to-model>.tflite --platform <HW_series_name> --chipset <processor_type>\n",
    ">   ```"
   ]
  },
  {
   "cell_type": "code",
   "execution_count": null,
   "metadata": {},
   "outputs": [],
   "source": []
  }
 ],
 "metadata": {
  "colab": {
   "provenance": []
  },
  "kernelspec": {
   "display_name": "Python 3 (ipykernel)",
   "language": "python",
   "name": "python3"
  },
  "language_info": {
   "codemirror_mode": {
    "name": "ipython",
    "version": 3
   },
   "file_extension": ".py",
   "mimetype": "text/x-python",
   "name": "python",
   "nbconvert_exporter": "python",
   "pygments_lexer": "ipython3",
   "version": "3.8.0"
  }
 },
 "nbformat": 4,
 "nbformat_minor": 4
}
